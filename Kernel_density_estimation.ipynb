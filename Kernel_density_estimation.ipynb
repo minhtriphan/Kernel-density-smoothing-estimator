{
 "cells": [
  {
   "cell_type": "code",
   "execution_count": 16,
   "metadata": {},
   "outputs": [],
   "source": [
    "# In this section, we're gonna builda kernel density estimation\n",
    "# Firstly, import the 'numpy' and 'matplotlib.pyplot' packages\n",
    "import numpy as np\n",
    "import matplotlib.pyplot as plt\n",
    "import math\n",
    "\n",
    "def ker_smoothing(X, k):\n",
    "    X = np.sort(X)\n",
    "    # Compute the range of data vector\n",
    "    X_min = X[0]\n",
    "    X_max = X[-1]\n",
    "    data_points = np.linspace(X_min, X_max, 1000)\n",
    "    result = np.zeros((1000,))\n",
    "    if k != 'Uniform' and k != 'Epan' and k != 'Biweight' and k != 'Triweight' and k != 'Gaussian':\n",
    "        return \"Name of the kernel is incorrect!!!\"\n",
    "    else:    \n",
    "        def ker_density(point, X, k):        \n",
    "            # Compute the necessary quantities\n",
    "            sig = np.std(X)\n",
    "            n = len(X)\n",
    "            # Next, we construct the functions of kernels\n",
    "            c = np.array([1.843, 2.345, 2.778, 3.154, 1.059])\n",
    "            band = c*sig*n**(-1/5)\n",
    "            matrix = np.array([X,X,X,X,X])\n",
    "            matrix = matrix.transpose()\n",
    "            reg_vec = (matrix - point)/band\n",
    "            def K(x, k):\n",
    "                vec = np.zeros((n,))\n",
    "                for i, xi in enumerate(x):\n",
    "                    if abs(xi) > 1:\n",
    "                        vec[i] = 0\n",
    "                    else:\n",
    "                        if k == 'Uniform':\n",
    "                            vec[i] = 1/2\n",
    "                        elif k == 'Epan':\n",
    "                            vec[i] = 3/4*(1-xi**2)\n",
    "                        elif k == 'Biweight':\n",
    "                            vec[i] = 15/16*(1-xi**2)**2\n",
    "                        elif k == 'Triweight':\n",
    "                            vec[i] = 35/32*(1-xi**2)**3\n",
    "                        else:\n",
    "                            vec[i] = 1/math.sqrt(2*np.pi)*math.exp(-1/2*xi**2)\n",
    "                return vec\n",
    "            value = np.zeros((reg_vec.shape[0],reg_vec.shape[1]))\n",
    "            type_kernel = [\"Uniform\", \"Epan\", \"Biweight\", \"Triweight\", \"Gaussian\"]\n",
    "            for j in range(0, reg_vec.shape[1]-1):\n",
    "                value[:,j] = K(reg_vec[:,j], type_kernel[j])\n",
    "            pdf = np.sum(value, axis = 0)\n",
    "            if k == 'Uniform':\n",
    "                return pdf[0]\n",
    "            elif k == 'Epan':\n",
    "                return pdf[1]\n",
    "            elif k == 'Biweight':\n",
    "                return pdf[2]\n",
    "            elif k == 'Triweight':\n",
    "                return pdf[3]\n",
    "            else:\n",
    "                return pdf[4]\n",
    "    for i, l in enumerate(data_points):\n",
    "        result[i] = ker_density(l, X, k)\n",
    "    fig = plt.figure\n",
    "    _ = plt.plot(data_points, result)\n",
    "    return fig"
   ]
  },
  {
   "cell_type": "code",
   "execution_count": 12,
   "metadata": {},
   "outputs": [
    {
     "data": {
      "text/plain": [
       "<function matplotlib.pyplot.show(*args, **kw)>"
      ]
     },
     "execution_count": 12,
     "metadata": {},
     "output_type": "execute_result"
    },
    {
     "data": {
      "image/png": "[encoded data removed]",
      "text/plain": [
       "<Figure size 432x288 with 1 Axes>"
      ]
     },
     "metadata": {},
     "output_type": "display_data"
    }
   ],
   "source": [
    "# In this cell, we will extract the data of Yahoo Finance about companies on NASDAQ\n",
    "# We will investigate the market capitalization of these companies using the kernel density estimator we just constructed\n",
    "import csv\n"
   ]
  }
 ],
 "metadata": {
  "kernelspec": {
   "display_name": "Python 3",
   "language": "python",
   "name": "python3"
  },
  "language_info": {
   "codemirror_mode": {
    "name": "ipython",
    "version": 3
   },
   "file_extension": ".py",
   "mimetype": "text/x-python",
   "name": "python",
   "nbconvert_exporter": "python",
   "pygments_lexer": "ipython3",
   "version": "3.6.5"
  }
 },
 "nbformat": 4,
 "nbformat_minor": 2
}
